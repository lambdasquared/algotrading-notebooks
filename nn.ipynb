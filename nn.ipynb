{
 "cells": [
  {
   "cell_type": "code",
   "execution_count": 1,
   "metadata": {},
   "outputs": [],
   "source": [
    "import pandas\n",
    "import numpy as np\n",
    "import torch\n",
    "from torch import nn\n",
    "import matplotlib.pyplot as plt"
   ]
  },
  {
   "cell_type": "code",
   "execution_count": 2,
   "metadata": {},
   "outputs": [],
   "source": [
    "data_path = \"./data/btcusd.csv\"\n",
    "data = pandas.read_csv(data_path)\n",
    "data = data.drop(\"Date\", axis=1)\n",
    "data = data.drop(\"Adj Close\", axis=1)"
   ]
  },
  {
   "cell_type": "code",
   "execution_count": 3,
   "metadata": {},
   "outputs": [],
   "source": [
    "data = data.fillna(method=\"backfill\")\n",
    "data = data[data[\"Volume\"] != data[\"Volume\"].max()]"
   ]
  },
  {
   "cell_type": "code",
   "execution_count": 4,
   "metadata": {},
   "outputs": [
    {
     "data": {
      "text/plain": [
       "[<matplotlib.lines.Line2D at 0x13fb30190>]"
      ]
     },
     "execution_count": 4,
     "metadata": {},
     "output_type": "execute_result"
    },
    {
     "data": {
      "image/png": "[encoded data removed]",
      "text/plain": [
       "<Figure size 432x288 with 1 Axes>"
      ]
     },
     "metadata": {
      "needs_background": "light"
     },
     "output_type": "display_data"
    }
   ],
   "source": [
    "data = data - data.rolling(30).mean()\n",
    "data = data.dropna()\n",
    "data = data.reset_index(drop=True)\n",
    "plt.plot(data[\"Volume\"])"
   ]
  },
  {
   "cell_type": "code",
   "execution_count": 5,
   "metadata": {},
   "outputs": [],
   "source": [
    "data = (data - data.min()) / (data.max() - data.min())"
   ]
  },
  {
   "cell_type": "code",
   "execution_count": 6,
   "metadata": {},
   "outputs": [],
   "source": [
    "data_rose = [1. if data[\"Open\"][i] < data[\"Open\"][i+1] else 0. for i, _ in enumerate(data[\"Open\"][:-1])]"
   ]
  },
  {
   "cell_type": "code",
   "execution_count": 7,
   "metadata": {},
   "outputs": [],
   "source": [
    "days = 5"
   ]
  },
  {
   "cell_type": "code",
   "execution_count": 8,
   "metadata": {},
   "outputs": [],
   "source": [
    "data_input = torch.tensor([\n",
    "    data.loc[i : i+days-1].to_numpy().flatten()\n",
    "    for i in range(data.shape[0] - days - 1)\n",
    "], dtype=torch.double)\n",
    "data_rose = torch.tensor(data_rose[days:])"
   ]
  },
  {
   "cell_type": "code",
   "execution_count": 12,
   "metadata": {},
   "outputs": [],
   "source": [
    "model = nn.Sequential(\n",
    "    nn.Linear(5*days, 1),\n",
    "    nn.Flatten(0, 1)\n",
    ")"
   ]
  },
  {
   "cell_type": "code",
   "execution_count": 13,
   "metadata": {},
   "outputs": [],
   "source": [
    "loss_fn = nn.MSELoss(reduction=\"sum\")"
   ]
  },
  {
   "cell_type": "code",
   "execution_count": 14,
   "metadata": {},
   "outputs": [
    {
     "name": "stdout",
     "output_type": "stream",
     "text": [
      "99 tensor(nan, grad_fn=<MseLossBackward>)\n",
      "199 tensor(nan, grad_fn=<MseLossBackward>)\n",
      "299 tensor(nan, grad_fn=<MseLossBackward>)\n",
      "399 tensor(nan, grad_fn=<MseLossBackward>)\n",
      "499 tensor(nan, grad_fn=<MseLossBackward>)\n",
      "599 tensor(nan, grad_fn=<MseLossBackward>)\n",
      "699 tensor(nan, grad_fn=<MseLossBackward>)\n",
      "799 tensor(nan, grad_fn=<MseLossBackward>)\n",
      "899 tensor(nan, grad_fn=<MseLossBackward>)\n",
      "999 tensor(nan, grad_fn=<MseLossBackward>)\n",
      "1099 tensor(nan, grad_fn=<MseLossBackward>)\n",
      "1199 tensor(nan, grad_fn=<MseLossBackward>)\n",
      "1299 tensor(nan, grad_fn=<MseLossBackward>)\n",
      "1399 tensor(nan, grad_fn=<MseLossBackward>)\n",
      "1499 tensor(nan, grad_fn=<MseLossBackward>)\n",
      "1599 tensor(nan, grad_fn=<MseLossBackward>)\n",
      "1699 tensor(nan, grad_fn=<MseLossBackward>)\n",
      "1799 tensor(nan, grad_fn=<MseLossBackward>)\n",
      "1899 tensor(nan, grad_fn=<MseLossBackward>)\n",
      "1999 tensor(nan, grad_fn=<MseLossBackward>)\n",
      "2099 tensor(nan, grad_fn=<MseLossBackward>)\n",
      "2199 tensor(nan, grad_fn=<MseLossBackward>)\n",
      "2299 tensor(nan, grad_fn=<MseLossBackward>)\n"
     ]
    }
   ],
   "source": [
    "lr = 5e-4\n",
    "for i, v in enumerate(data_input):\n",
    "    v_pred = model(data_input.float())\n",
    "    loss = loss_fn(v_pred, data_rose)\n",
    "    if i % 100 == 99:\n",
    "        print(i, loss)\n",
    "        \n",
    "    model.zero_grad()\n",
    "    loss.backward()\n",
    "    \n",
    "    with torch.no_grad():\n",
    "        for param in model.parameters():\n",
    "            param -= lr * param.grad"
   ]
  },
  {
   "cell_type": "code",
   "execution_count": null,
   "metadata": {},
   "outputs": [],
   "source": []
  }
 ],
 "metadata": {
  "kernelspec": {
   "display_name": "Python 3",
   "language": "python",
   "name": "python3"
  },
  "language_info": {
   "codemirror_mode": {
    "name": "ipython",
    "version": 3
   },
   "file_extension": ".py",
   "mimetype": "text/x-python",
   "name": "python",
   "nbconvert_exporter": "python",
   "pygments_lexer": "ipython3",
   "version": "3.9.2"
  }
 },
 "nbformat": 4,
 "nbformat_minor": 2
}
